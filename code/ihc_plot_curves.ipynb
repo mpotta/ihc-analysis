{
  "nbformat": 4,
  "nbformat_minor": 0,
  "metadata": {
    "colab": {
      "name": "ihc_plot_curves",
      "provenance": [],
      "collapsed_sections": []
    },
    "kernelspec": {
      "name": "python3",
      "display_name": "Python 3"
    },
    "language_info": {
      "name": "python"
    }
  },
  "cells": [
    {
      "cell_type": "code",
      "metadata": {
        "id": "B0baSXTLE5Kc"
      },
      "source": [
        "import numpy as np\n",
        "import statistics\n",
        "import pandas as pd\n",
        "import matplotlib.pyplot as plt\n",
        "import matplotlib.lines as mlines"
      ],
      "execution_count": null,
      "outputs": []
    },
    {
      "cell_type": "code",
      "metadata": {
        "id": "_wwu1I6bFI27"
      },
      "source": [
        "#file_path = '/content/'+ <File_Name.csv>\n",
        "# Conventions: Results_mBYXX_Y_Z_<side>_<Marker>_DDMMYY_HHMMSS.csv\n",
        "#          XX: Animal Number\n",
        "#           Y: Slide Number\n",
        "#           Z: Slice Number\n",
        "\n",
        "def load_fluorescence_data(file_path):\n",
        "  headers = ['Label','Area','Mean','StdDev']\n",
        "  df = pd.read_csv(file_path,names=headers)\n",
        "  return df"
      ],
      "execution_count": null,
      "outputs": []
    },
    {
      "cell_type": "code",
      "metadata": {
        "id": "BaLvUTqLi2o6"
      },
      "source": [
        "def load_cell_count_data(file_path):\n",
        "  headers = ['Slice','Count','AverageSize','Area', \"Mean\"]\n",
        "  df = pd.read_csv('/content/Results_mBY15_2_4_rightside_CellCount.csv',names=headers)"
      ],
      "execution_count": null,
      "outputs": []
    },
    {
      "cell_type": "code",
      "metadata": {
        "id": "rKRunQVPIBnV"
      },
      "source": [
        "# Define Regex Constants\n",
        "regex_GFAP = \".*Red.*roi_[0-9]+.*\"\n",
        "regex_IgG = \".*Green.*roi_[0-9]+.*\"\n",
        "regex_CD68 = \".*Blue.*roi_[0-9]+.*\"\n",
        "\n",
        "regex_GFAP_background = \".*Red.*background.*\"\n",
        "regex_IgG_background = \".*Green.*background.*\"\n",
        "regex_CD68_background = \".*Blue.*background.*\""
      ],
      "execution_count": null,
      "outputs": []
    },
    {
      "cell_type": "code",
      "metadata": {
        "id": "QsHqlfIDyO4z"
      },
      "source": [
        "def plot_intensity_scatter(marker, x, y, background):\n",
        "  # Extract Distance from Implant\n",
        "  x = x.apply(lambda x: x.rpartition('_')[2])\n",
        "  y = y.astype(float)\n",
        "\n",
        "  # Plot\n",
        "  plt.scatter(x,y)\n",
        "  plt.axhline(y=float(background[0]), color='r', linestyle='-')\n",
        "  plt.xlabel('Distance from Implant (um)')\n",
        "  plt.ylabel('Absolute Pixel Intensity')\n",
        "  plt.title(marker)\n",
        "  plt.show()"
      ],
      "execution_count": null,
      "outputs": []
    },
    {
      "cell_type": "code",
      "metadata": {
        "id": "HmSi22IfkgXy"
      },
      "source": [
        "def plot_intensity_profile(marker, x, y, background):\n",
        "  # Extract Distance from Implant\n",
        "  x = x.apply(lambda x: x.rpartition('_')[2])\n",
        "  y = y.astype(float)\n",
        "\n",
        "  min = float(background[0])\n",
        "  max = y.max()\n",
        "  mean = statistics.mean([min, y.mean()])\n",
        "  y = (y - mean)/(max - min)\n",
        "\n",
        "  # Plot\n",
        "  plt.plot(x,y)\n",
        "  plt.xlabel('Distance from Implant (um)')\n",
        "  plt.ylabel('Normalized Fluorescent Intensity')\n",
        "  plt.title(marker)\n",
        "  plt.show()"
      ],
      "execution_count": null,
      "outputs": []
    },
    {
      "cell_type": "code",
      "metadata": {
        "id": "frZ7DS8MjrBl"
      },
      "source": [
        "def plot_cell_count_profile(marker, x, y, background):\n",
        "  # Extract Distance from Implant\n",
        "  x = x.apply(lambda x: x.rpartition('_')[2])\n",
        "  y = y.astype(float)\n",
        "  y = (y/float(background[0]))*10e2\n",
        "\n",
        "  # Plot\n",
        "  plt.plot(x,y)\n",
        "  plt.xlabel('Distance from Implant (um)')\n",
        "  plt.ylabel('Percent of Background')\n",
        "  plt.title(marker)\n",
        "  plt.show()"
      ],
      "execution_count": null,
      "outputs": []
    },
    {
      "cell_type": "code",
      "metadata": {
        "id": "8OtA7gyWgfW6"
      },
      "source": [
        "def plot_GFAP(df):\n",
        "\n",
        "  background_GFAP = df[df['Label'].str.contains(regex_GFAP_background)]\n",
        "  df_GFAP = df[df['Label'].str.contains(regex_GFAP)]\n",
        "\n",
        "  plot_intensity_scatter(\"GFAP\", df_GFAP['Label'], df_GFAP['Mean'], background_GFAP['Mean'])\n",
        "  plot_intensity_profile(\"GFAP\", df_GFAP['Label'], df_GFAP['Mean'], background_GFAP['Mean'])"
      ],
      "execution_count": null,
      "outputs": []
    },
    {
      "cell_type": "code",
      "metadata": {
        "id": "yN2l6YBMGxn2"
      },
      "source": [
        "def plot_IgG(df):\n",
        "\n",
        "  background_IgG = df[df['Label'].str.contains(regex_IgG_background)]\n",
        "  df_IgG = df[df['Label'].str.contains(regex_IgG)]\n",
        "\n",
        "  plot_intensity_scatter(\"IgG\", df_IgG['Label'], df_IgG['Mean'], background_IgG['Mean'])\n",
        "  plot_intensity_profile(\"IgG\", df_IgG['Label'], df_IgG['Mean'], background_IgG['Mean'])"
      ],
      "execution_count": null,
      "outputs": []
    },
    {
      "cell_type": "code",
      "metadata": {
        "id": "dN-ZzurgyZDA"
      },
      "source": [
        "def plot_CD68(df):\n",
        "  \n",
        "  background_CD68 = df[df['Label'].str.contains(regex_CD68_background)]\n",
        "  df_CD68 = df[df['Label'].str.contains(regex_CD68)]\n",
        "\n",
        "  plot_intensity_profile(\"CD68\", df_CD68['Label'], df_CD68['Mean'], background_CD68['Mean'])\n",
        "  plot_intensity_profile(\"CD68\", df_CD68['Label'], df_CD68['Mean'], background_CD68['Mean'])"
      ],
      "execution_count": null,
      "outputs": []
    },
    {
      "cell_type": "code",
      "metadata": {
        "id": "EUS1vBmWielX"
      },
      "source": [
        "# Load Dataframes\n",
        "file_path_fluorescence = '/content/'+'Results_mBY15_2_4_rightside_Red_11_2040_98.csv'\n",
        "df_fluorescence = load_fluorescence_data(file_path_fluorescence)\n",
        "\n",
        "file_path_cell_count = ''\n",
        "#df_cell_count = load_cell_count_data()"
      ],
      "execution_count": null,
      "outputs": []
    },
    {
      "cell_type": "markdown",
      "metadata": {
        "id": "4tnQCT1t4Wl6"
      },
      "source": [
        "Fluorescene Profile"
      ]
    },
    {
      "cell_type": "code",
      "metadata": {
        "colab": {
          "base_uri": "https://localhost:8080/",
          "height": 573
        },
        "id": "AM-qT0eRDs0_",
        "outputId": "a8bcfbee-4c5f-4ce8-f824-ff6f8457c34b"
      },
      "source": [
        "plot_GFAP(df_fluorescence) # Red; GFAP; Astrocytes"
      ],
      "execution_count": null,
      "outputs": [
        {
          "output_type": "display_data",
          "data": {
            "image/png": "[encoded data removed]",
            "text/plain": [
              "<Figure size 432x288 with 1 Axes>"
            ]
          },
          "metadata": {
            "tags": [],
            "needs_background": "light"
          }
        },
        {
          "output_type": "display_data",
          "data": {
            "image/png": "[encoded data removed]",
            "text/plain": [
              "<Figure size 432x288 with 1 Axes>"
            ]
          },
          "metadata": {
            "tags": [],
            "needs_background": "light"
          }
        }
      ]
    },
    {
      "cell_type": "code",
      "metadata": {
        "id": "5z2nypqeGDMz"
      },
      "source": [
        "plot_IgG(df_fluorescence) # Green; IgG; BBB"
      ],
      "execution_count": null,
      "outputs": []
    },
    {
      "cell_type": "code",
      "metadata": {
        "id": "CthL4AUWGHT2"
      },
      "source": [
        "plot_CD68(df_fluorescence) # Blue; CD68; Glia"
      ],
      "execution_count": null,
      "outputs": []
    },
    {
      "cell_type": "markdown",
      "metadata": {
        "id": "WCBo8p4RkJy8"
      },
      "source": [
        "Cell Count Profile"
      ]
    },
    {
      "cell_type": "code",
      "metadata": {
        "id": "-L5rbY3ymjan"
      },
      "source": [
        "#plot_cell_count_profile(\"Neuronal Nuceli\", df_['Label'], df_['Count'], 3051.848) # NeuroTrace"
      ],
      "execution_count": null,
      "outputs": []
    }
  ]
}